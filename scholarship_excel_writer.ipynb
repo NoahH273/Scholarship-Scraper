{
 "cells": [
  {
   "cell_type": "markdown",
   "id": "087e2a1a-5b82-4cde-a393-3d643748a1ad",
   "metadata": {},
   "source": [
    "Imports"
   ]
  },
  {
   "cell_type": "code",
   "execution_count": 1,
   "id": "f0541aea-f58c-4318-95f5-380b70f9fe86",
   "metadata": {},
   "outputs": [],
   "source": [
    "import pandas as pd\n",
    "import pymongo\n",
    "import xlsxwriter\n",
    "\n",
    "from secret import DB_STRING, DATABASE_NAME, COLLECTION_NAME\n",
    "from global_variables import *"
   ]
  },
  {
   "cell_type": "markdown",
   "id": "712ad57e-4fab-4e24-b04f-6fca0aed499a",
   "metadata": {},
   "source": [
    "Function name: create_df\n",
    "Purpose: Turns a mongodb collection into a pandas DataFrame\n",
    "Input:\n",
    "    documents: a pymongo cursor containg all the documents to be added to the dataframe\n",
    "    column_index: The names of the keys in each document, to become columns in the pandas dataframe\n",
    "Output:\n",
    "    df: a pandas Dataframe with the given columns and data"
   ]
  },
  {
   "cell_type": "code",
   "execution_count": 2,
   "id": "7f9f0921-7e25-4a8e-abc8-f4d4f38f47fd",
   "metadata": {},
   "outputs": [],
   "source": [
    "def create_df(documents, column_index):\n",
    "    \n",
    "    df = pd.DataFrame(columns = column_index)\n",
    "    for doc in documents:\n",
    "        df.loc[len(df)] = doc\n",
    "    return df"
   ]
  },
  {
   "cell_type": "markdown",
   "id": "e2b416ba-8688-450a-8e2a-b39923d23b74",
   "metadata": {},
   "source": [
    "Function name: create_spreadsheet\n",
    "Purpose: Uses Xlsxwriter to turn a pandas DataFrame into an excel file\n",
    "Input:\n",
    "    df: the pandas DataFrame to turn into an excel file\n",
    "    file_name: The name of the excel file to be created\n",
    "    sheet_name: The name of the excel sheet to write to\n",
    "Output:\n",
    "    writer: The xlsx Writer object that is formatting the excel file"
   ]
  },
  {
   "cell_type": "code",
   "execution_count": 3,
   "id": "6fbab536-46b0-4300-bc5d-d3b82dcb0e5f",
   "metadata": {},
   "outputs": [],
   "source": [
    "def create_spreadsheet(df, file_name, sheet_name):\n",
    "    writer = pd.ExcelWriter(file_name, engine = 'xlsxwriter')\n",
    "    df.to_excel(writer, sheet_name = sheet_name, index = False)\n",
    "    return writer"
   ]
  },
  {
   "cell_type": "markdown",
   "id": "ed321376-b423-44f0-a128-e7458723b076",
   "metadata": {},
   "source": [
    "Function name: create_formats\n",
    "Purpose: adds and returns formats needed for the excel file\n",
    "Inputs:\n",
    "    writer: an xlsxwriter object that is writing to the excel file\n",
    "    background_color: the background color for each column, defaults to white\n",
    "    font_color: the font color for each column, defaults to black\n",
    "Output:\n",
    "    formats: A dictionary containg key-value pairs with the name of each format and the corresponding format variable"
   ]
  },
  {
   "cell_type": "code",
   "execution_count": 4,
   "id": "3ce1ade9-19b0-4d7a-9893-9190ca7c91dc",
   "metadata": {},
   "outputs": [],
   "source": [
    "def create_formats(writer, background_color = 'ffffff', font_color = '000000'):\n",
    "    formats = {}\n",
    "\n",
    "    string_format = writer.book.add_format(\n",
    "        {\n",
    "        'font_color': font_color,\n",
    "        'bg_color': background_color,\n",
    "        'border': 1\n",
    "        }\n",
    "    )\n",
    "    formats['string format'] = string_format\n",
    "    \n",
    "    integer_format = writer.book.add_format(\n",
    "        {\n",
    "        'num_format': '0',\n",
    "        'font_color': font_color,\n",
    "        'bg_color': background_color,\n",
    "        'border': 1\n",
    "        }\n",
    "    )\n",
    "    formats['integer format'] = integer_format\n",
    "    return formats"
   ]
  },
  {
   "cell_type": "markdown",
   "id": "0a4b2c52-e6a6-4a47-924e-e9eeb0f9f2d2",
   "metadata": {},
   "source": [
    "Function name: create_format_dictionary\n",
    "Purpose: Makes a dictionary containing key-value pairs mapping each column in the excel file to its index name and format\n",
    "Input:\n",
    "    formats: a dictionary containg the formats to be used\n",
    "    columns_index: The names of the columns in the excel spreadsheet\n",
    "Output:\n",
    "    format_dictionary: the dictionary with columns and their formats"
   ]
  },
  {
   "cell_type": "code",
   "execution_count": 5,
   "id": "1b0ff011-cd82-4d73-a220-ce3aa7295a2e",
   "metadata": {
    "jupyter": {
     "source_hidden": true
    }
   },
   "outputs": [],
   "source": [
    "def create_column_dictionary(formats, columns_index):\n",
    "    format_dictionary = {\n",
    "        'A': [columns_index[0], formats['string format']],\n",
    "        'B': [columns_index[1], formats['string format']],\n",
    "        'C': [columns_index[2], formats['string format']],\n",
    "        'D': [columns_index[3], formats['integer format']],\n",
    "        'E': [columns_index[4], formats['string format']]\n",
    "    }\n",
    "    return format_dictionary"
   ]
  },
  {
   "cell_type": "markdown",
   "id": "9f5efddd-58a2-4f02-bb67-3f4e8bbbfd1a",
   "metadata": {},
   "source": [
    "Function name: apply_formats\n",
    "Purpose: Applies the proper format to each column of the excel file\n",
    "Inputs:\n",
    "    writer: the xlsx writer object that is writing to the excel file\n",
    "    format_dictionary: a dictionary with the columns of the excel file and their corresponding name and formats\n",
    "    sheet_name: the name of the excel sheet to write to\n",
    "Output:\n",
    "    Void"
   ]
  },
  {
   "cell_type": "code",
   "execution_count": 6,
   "id": "d39721b1-50fd-4723-9ce9-c32a7e9e751f",
   "metadata": {
    "jupyter": {
     "source_hidden": true
    }
   },
   "outputs": [],
   "source": [
    "def apply_formats(writer, column_dictionary, sheet_name):\n",
    "    for column, formats in column_dictionary.items():\n",
    "        writer.sheets[sheet_name].set_column(f'{column}:{column}', 30, formats[1])\n",
    "        writer.sheets[sheet_name].write(f'{column}1', formats[0], formats[1])"
   ]
  },
  {
   "cell_type": "markdown",
   "id": "529fcaba-deaf-42fb-bca0-c5b28eef5616",
   "metadata": {},
   "source": [
    "Function name: scholarships_to_excel\n",
    "Purpose: Turns a collection with scholarship information into and excel document\n",
    "Inputs:\n",
    "    db_uri: the uri for a port where mongod service is listening\n",
    "    database_name: the name of the database containing the collection with scholarship data\n",
    "    collection_name: the name of the collection with scholarship data\n",
    "    columns: the name of the columns of the excel file\n",
    "    excel_file_name: the name of the excel file to write to\n",
    "    excel_sheet_name: the name of the excel sheet to write to"
   ]
  },
  {
   "cell_type": "code",
   "execution_count": 9,
   "id": "581a435d-cc90-4bf2-be48-ec1c8479aedb",
   "metadata": {
    "jupyter": {
     "source_hidden": true
    }
   },
   "outputs": [],
   "source": [
    "def scholarships_to_excel(db_uri, database_name, collection_name, columns, excel_file_name, excel_sheet_name):\n",
    "    collection = get_collection(db_uri, database_name, collection_name)\n",
    "    column_names = collection.find().next().keys()\n",
    "    documents = collection.find()\n",
    "    \n",
    "    df = create_df(documents, columns)\n",
    "    writer = create_spreadsheet(df, excel_file_name, excel_sheet_name)\n",
    "    formats = create_formats(writer)\n",
    "    column_dic = create_column_dictionary(formats, columns)\n",
    "    apply_formats(writer, column_dic, excel_sheet_name)\n",
    "    writer.close()"
   ]
  },
  {
   "cell_type": "code",
   "execution_count": 8,
   "id": "90d36f9a-534f-4fbe-9fe6-a0483073cbc6",
   "metadata": {},
   "outputs": [],
   "source": [
    "scholarships_to_excel(DB_STRING, DATABASE_NAME, COLLECTION_NAME, COLUMNS, EXCEL_FILE_NAME, EXCEL_SHEET_NAME)"
   ]
  }
 ],
 "metadata": {
  "kernelspec": {
   "display_name": "Python 3 (ipykernel)",
   "language": "python",
   "name": "python3"
  },
  "language_info": {
   "codemirror_mode": {
    "name": "ipython",
    "version": 3
   },
   "file_extension": ".py",
   "mimetype": "text/x-python",
   "name": "python",
   "nbconvert_exporter": "python",
   "pygments_lexer": "ipython3",
   "version": "3.12.3"
  }
 },
 "nbformat": 4,
 "nbformat_minor": 5
}
