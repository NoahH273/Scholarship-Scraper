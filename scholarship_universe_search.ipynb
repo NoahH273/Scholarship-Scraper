{
 "cells": [
  {
   "cell_type": "markdown",
   "id": "e852f3d4-7006-4216-9793-b45b7b26a590",
   "metadata": {},
   "source": [
    "Imports"
   ]
  },
  {
   "cell_type": "code",
   "execution_count": 1,
   "id": "c7bb8664-c9a9-421d-82f6-54f0431fb8eb",
   "metadata": {},
   "outputs": [],
   "source": [
    "from selenium import webdriver\n",
    "from selenium.webdriver.common.by import By\n",
    "from selenium.webdriver.support.wait import WebDriverWait\n",
    "from selenium.common import NoSuchElementException, ElementNotInteractableException, ElementClickInterceptedException, TimeoutException, StaleElementReferenceException\n",
    "from selenium.webdriver.support import expected_conditions as EC\n",
    "from selenium.webdriver import ActionChains\n",
    "from selenium.webdriver.common.actions.wheel_input import ScrollOrigin\n",
    "\n",
    "import time\n",
    "import datetime\n",
    "import pymongo\n",
    "\n",
    "from secret import * \n",
    "from global_variables import get_collection"
   ]
  },
  {
   "cell_type": "markdown",
   "id": "33f775f7-eef5-4d4c-ae9f-071958cdcd3d",
   "metadata": {},
   "source": [
    "Function name: test_button\n",
    "Purpose: Determines if a given element is in an active state based on its aria-disbaled attribute\n",
    "Inputs: \n",
    "    button: A websocket element whose activity state depends on the value of the aria-disabled attribute\n",
    "Outputs: A boolean indicating whether the button is enabled (aria-disabled = false)"
   ]
  },
  {
   "cell_type": "code",
   "execution_count": 2,
   "id": "3d240296-359e-4704-8027-438ffeeaf0a3",
   "metadata": {
    "jupyter": {
     "source_hidden": true
    }
   },
   "outputs": [],
   "source": [
    "def test_button(button):\n",
    "    enabled = button.get_attribute('aria-disabled')\n",
    "    if enabled == 'false':\n",
    "        return True\n",
    "    return False"
   ]
  },
  {
   "cell_type": "markdown",
   "id": "2bffe635-83af-43ff-8993-950c337203b2",
   "metadata": {},
   "source": [
    "Function name: button_click\n",
    "Purpose: Continously clicks an element with a small delay until the element is successfully clicked\n",
    "Inputs:\n",
    "    Driver: An active webdriver object\n",
    "    Button: A websocket element that can be clicked\n",
    "Outputs:\n",
    "    Void"
   ]
  },
  {
   "cell_type": "code",
   "execution_count": 3,
   "id": "efa5fd42-e033-4f65-b7f4-60b631d42bf2",
   "metadata": {
    "jupyter": {
     "source_hidden": true
    }
   },
   "outputs": [],
   "source": [
    "def button_click(driver, button):\n",
    "    button_ready = False\n",
    "    while not button_ready:\n",
    "        try:\n",
    "            button.click()\n",
    "            button_ready = True\n",
    "        except ElementClickInterceptedException:\n",
    "            time.sleep(1)\n",
    "            continue"
   ]
  },
  {
   "cell_type": "markdown",
   "id": "057fa05a-b260-4160-9504-f568bbbb9ca8",
   "metadata": {},
   "source": [
    "Function name: open_site\n",
    "Purpose: Opens a site at a given url and maximizes the window for standardization\n",
    "Inputs:\n",
    "    driver: A webdriver object to open the url with\n",
    "    url: A string containing the adress of the site to be opened\n",
    "Outputs: \n",
    "    Void"
   ]
  },
  {
   "cell_type": "code",
   "execution_count": 4,
   "id": "82e939ca-aeb1-43e1-b96b-8a8476f42839",
   "metadata": {
    "jupyter": {
     "source_hidden": true
    }
   },
   "outputs": [],
   "source": [
    "def open_site(driver, url):\n",
    "    driver.get(url)\n",
    "    driver.maximize_window()\n"
   ]
  },
  {
   "cell_type": "markdown",
   "id": "a8e9a021-f554-46ff-8f81-dcb3e1248b4d",
   "metadata": {},
   "source": [
    "Function name: login\n",
    "Purpose: Logs in to the UA scholarship universe portal with the given username and password, getting the driver to the scholarship universe homepage\n",
    "Inputs:\n",
    "    driver: A webdriver object on the scholarship universe login page\n",
    "    username: The UA netID of the user (String)\n",
    "    password: The UA password of the user (String)\n",
    "Outputs:\n",
    "    Void"
   ]
  },
  {
   "cell_type": "code",
   "execution_count": 5,
   "id": "038f2282-9dfa-4b14-99d2-4584f5bde3fa",
   "metadata": {
    "jupyter": {
     "source_hidden": true
    }
   },
   "outputs": [],
   "source": [
    "def login(driver, username, password):\n",
    "    wait = WebDriverWait(driver, timeout=20, poll_frequency=1)\n",
    "    wait.until(EC.visibility_of_element_located((By.ID, 'password')))\n",
    "    username_box = driver.find_element(By.ID, 'username')\n",
    "    password_box = driver.find_element(By.ID, 'password')\n",
    "    submit_button = driver.find_element(By.CSS_SELECTOR, '[tabindex=\"3\"]')\n",
    "    username_box.send_keys(username)\n",
    "    password_box.send_keys(password)\n",
    "    submit_button.click()"
   ]
  },
  {
   "cell_type": "markdown",
   "id": "233de122-2c7f-482f-9b28-f4676df05c0c",
   "metadata": {},
   "source": [
    "Function name: open_scholarship_page\n",
    "Purpose: Navigates from the scholarship universe homepage to the scholarships page\n",
    "Inputs:\n",
    "    driver: A webdriver object on the scholarship universe homepage\n",
    "Outputs:\n",
    "    Void"
   ]
  },
  {
   "cell_type": "code",
   "execution_count": 6,
   "id": "dcd1f6db-b663-41cc-a0f6-6008394040ad",
   "metadata": {
    "jupyter": {
     "source_hidden": true
    }
   },
   "outputs": [],
   "source": [
    "def open_scholarship_page(driver):\n",
    "    wait = WebDriverWait(driver, timeout=20, poll_frequency=1)\n",
    "    try:\n",
    "        wait.until(EC.visibility_of_element_located((By.ID, 'student-menu-scholarship-link')))\n",
    "    except TimeoutException:\n",
    "        driver.quit()\n",
    "    scholarship_button = driver.find_element(By.ID, 'student-menu-scholarship-link')\n",
    "    button_click(driver = driver, button = scholarship_button)"
   ]
  },
  {
   "cell_type": "markdown",
   "id": "ace1229a-e691-475e-9a9c-465221c7c247",
   "metadata": {},
   "source": [
    "Function name: change_page\n",
    "Purpose: goes to the next page on the scholarships tab of scholarship universe\n",
    "Input:\n",
    "    next_button: the next page button on the site\n",
    "Output:\n",
    "    Void"
   ]
  },
  {
   "cell_type": "code",
   "execution_count": 7,
   "id": "e5566c38-346b-405b-a5ab-f1593f7aaf54",
   "metadata": {
    "jupyter": {
     "source_hidden": true
    }
   },
   "outputs": [],
   "source": [
    "def change_page(next_button):\n",
    "    ActionChains(driver)\\\n",
    "        .move_to_element(next_button)\\\n",
    "        .perform()\n",
    "    button_ready = False\n",
    "    while not button_ready:\n",
    "        try:\n",
    "            next_button.click()\n",
    "            button_ready = True\n",
    "        except ElementClickInterceptedException:\n",
    "            driver.implicitly_wait(1)\n",
    "            continue"
   ]
  },
  {
   "cell_type": "markdown",
   "id": "20cbbc62-1174-4b80-bc83-99a8e88d8d02",
   "metadata": {},
   "source": [
    "Function name: analyze_scholarship\n",
    "Purpose: collects data viewed by clicking the statistics button on a scholarship\n",
    "Inputs:\n",
    "    driver: A webdriver on the scholarships tab of scholarship universe\n",
    "    scholarship: A websocket element that is an ancestor of only one statistics button\n",
    "Output:\n",
    "    stats: A dictionary containing keys for Applications and Difficulty"
   ]
  },
  {
   "cell_type": "code",
   "execution_count": 8,
   "id": "0ddc46f9-530a-479d-a396-fe97ca33704b",
   "metadata": {
    "jupyter": {
     "source_hidden": true
    }
   },
   "outputs": [],
   "source": [
    "def analyze_scholarship(driver, scholarship):    \n",
    "    wait = WebDriverWait(driver, timeout=20, poll_frequency=1)\n",
    "    wait.until(EC.visibility_of_element_located((By.CSS_SELECTOR, 'button[title=\"Statistics\"]')))\n",
    "    stats_button = scholarship.find_element(By.CSS_SELECTOR, 'button[title=\"Statistics\"]')\n",
    "    button_click(driver, stats_button)\n",
    "    wait.until(EC.visibility_of_element_located((By.CSS_SELECTOR, 'div[_ngcontent-ng-c4018585498]')))\n",
    "    stats_boxes = driver.find_elements(By.CSS_SELECTOR, 'div[_ngcontent-ng-c4018585498]>p>b')\n",
    "    matches = stats_boxes[3].text\n",
    "    while not matches.isdigit():\n",
    "        wait.until(EC.visibility_of_element_located((By.CSS_SELECTOR, 'div[_ngcontent-ng-c4018585498]')))\n",
    "        time.sleep(1)\n",
    "        got_stats = False\n",
    "        while not got_stats:\n",
    "            try:\n",
    "                stats_boxes = driver.find_elements(By.CSS_SELECTOR, 'div[_ngcontent-ng-c4018585498]>p>b')\n",
    "                matches = stats_boxes[3].text\n",
    "                got_stats = True\n",
    "            except StaleElementReferenceException:\n",
    "                time.sleep(1)\n",
    "                continue\n",
    "    stats = {\n",
    "        'Applications': stats_boxes[1].text,\n",
    "        'Difficulty': stats_boxes[2].text,\n",
    "    }\n",
    "    button_click(driver, stats_button)\n",
    "    return stats\n",
    "            "
   ]
  },
  {
   "cell_type": "markdown",
   "id": "1d6defa3-e9f2-42c0-9287-23f0b182a65d",
   "metadata": {},
   "source": [
    "Function name: scan_scholarships\n",
    "Purpose: Scans every matched scholarship on scholarship universe, collecting data on the name, award amount, due date, application number, and difficulty of each scholarship\n",
    "Input:\n",
    "    driver: A webdriver object on the scholarships tab of scholarship universe\n",
    "Output:\n",
    "    scholarship_data: A list containing a dictionary for each scholarship. The dictionary has keys for Name, Amount, Due date,\n",
    "    Applications, and Difficulty"
   ]
  },
  {
   "cell_type": "code",
   "execution_count": 9,
   "id": "5444990a-6111-49eb-8f80-cd762e81a9ad",
   "metadata": {},
   "outputs": [],
   "source": [
    "def scan_scholarships(driver):\n",
    "    active = True\n",
    "    wait = WebDriverWait(driver, timeout=20, poll_frequency=1)\n",
    "    scholarship_data = []\n",
    "    while active:\n",
    "        wait.until(EC.visibility_of_element_located((By.CSS_SELECTOR, 'tbody[kendogridtablebody][role=\"rowgroup\"][class=\"k-table-tbody\"]')))\n",
    "        time.sleep(1)\n",
    "        award_amounts = [x.text for x in driver.find_elements(By.CSS_SELECTOR, '#amount > p.detail-value.amount-value > strong') if x.text != '']\n",
    "        names = [x.text for x in driver.find_elements(By.CLASS_NAME, 'big-name') if x.text != '']\n",
    "        apply_dates = [x.text.split(' - ')[1] for x in driver.find_elements(By.CSS_SELECTOR, '#apply-between > p.detail-value') if x.text != '']\n",
    "        apply_dates = [datetime.datetime(int(x.split('/')[2]), int(x.split('/')[0]), int(x.split('/')[1])) for x in apply_dates]\n",
    "        scholarship_list = driver.find_elements(By.CSS_SELECTOR, 'tbody[kendogridtablebody][role=\"rowgroup\"][class=\"k-table-tbody\"]>tr')\n",
    "        for i in range(len(scholarship_list)):\n",
    "            ActionChains(driver).move_to_element(scholarship_list[i]).perform()\n",
    "            stats = analyze_scholarship(driver, scholarship_list[i])\n",
    "            stats['Amount'] = award_amounts[i]\n",
    "            stats['Name'] = names[i]\n",
    "            stats['Due date'] = apply_dates[i]\n",
    "            scholarship_data.append(stats)\n",
    "        next_button = driver.find_element(By.CSS_SELECTOR, 'button[title=\"Go to the next page\"]')\n",
    "        active = test_button(next_button)\n",
    "        if not active:\n",
    "            break\n",
    "        button_click(driver = driver, button = next_button)\n",
    "    return scholarship_data"
   ]
  },
  {
   "cell_type": "markdown",
   "id": "65fa0b55-522b-406d-8b08-4bcb300cdd51",
   "metadata": {},
   "source": [
    "Function name: clear_collection\n",
    "Purpose: clears a given mongodb collection\n",
    "Input:\n",
    "    collection: A mongodb collection to be cleared\n",
    "Output:\n",
    "    A boolean, True if the collection was successfully cleared, False otherwise"
   ]
  },
  {
   "cell_type": "code",
   "execution_count": 10,
   "id": "2a911f23-92ff-48ac-a7f3-a3e48c3aaafc",
   "metadata": {
    "jupyter": {
     "source_hidden": true
    }
   },
   "outputs": [],
   "source": [
    "def clear_collection(collection):\n",
    "    collection.delete_many({})\n",
    "    return collection.count_documents({}) == 0"
   ]
  },
  {
   "cell_type": "markdown",
   "id": "3a621790-3211-48de-984a-b52d7a4ed21e",
   "metadata": {},
   "source": [
    "Function_name: refresh_collection\n",
    "Purpose: Gathers data on every matched scholarship in scholarship universe and adds the data to a mongodb collection\n",
    "Inputs:\n",
    "    db_uri: the uri the mongod service is listening on\n",
    "    database_name: the database containing the collection for data to be stored in\n",
    "    collection_name: the name of the collection to store data in\n",
    "    ua_username: the UA netId of the user\n",
    "    ua_password: the UA password of the user\n",
    "Outputs:\n",
    "    None"
   ]
  },
  {
   "cell_type": "code",
   "execution_count": 11,
   "id": "36a92604-9722-44dc-a42a-b2825ea1e069",
   "metadata": {},
   "outputs": [],
   "source": [
    "def refresh_collection(db_uri, database_name, collection_name, ua_username, ua_password):\n",
    "    collection = get_collection(db_uri, database_name, collection_name)\n",
    "    clear_collection(collection)\n",
    "    driver = webdriver.Chrome()\n",
    "    open_site(driver, UA_URL)\n",
    "    login(driver, ua_username, ua_password)\n",
    "    open_scholarship_page(driver)\n",
    "    scholarship_data = scan_scholarships(driver)\n",
    "    collection.insert_many(scholarship_data)\n",
    "    driver.quit()"
   ]
  },
  {
   "cell_type": "code",
   "execution_count": 12,
   "id": "1aaadf7f-a424-46be-a28a-32e3d15007b3",
   "metadata": {},
   "outputs": [],
   "source": [
    "refresh_collection(DB_STRING, DATABASE_NAME, COLLECTION_NAME, UA_USERNAME, UA_PASSWORD)"
   ]
  }
 ],
 "metadata": {
  "kernelspec": {
   "display_name": "Python 3 (ipykernel)",
   "language": "python",
   "name": "python3"
  },
  "language_info": {
   "codemirror_mode": {
    "name": "ipython",
    "version": 3
   },
   "file_extension": ".py",
   "mimetype": "text/x-python",
   "name": "python",
   "nbconvert_exporter": "python",
   "pygments_lexer": "ipython3",
   "version": "3.12.3"
  }
 },
 "nbformat": 4,
 "nbformat_minor": 5
}
